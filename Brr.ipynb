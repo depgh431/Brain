{
  "nbformat": 4,
  "nbformat_minor": 0,
  "metadata": {
    "colab": {
      "name": "Brr.ipynb",
      "provenance": [],
      "authorship_tag": "ABX9TyOANgo88x60toBSMjLdJANc",
      "include_colab_link": true
    },
    "kernelspec": {
      "name": "python3",
      "display_name": "Python 3"
    },
    "language_info": {
      "name": "python"
    }
  },
  "cells": [
    {
      "cell_type": "markdown",
      "metadata": {
        "id": "view-in-github",
        "colab_type": "text"
      },
      "source": [
        "<a href=\"https://colab.research.google.com/github/depgh431/Brr/blob/main/Brr.ipynb\" target=\"_parent\"><img src=\"https://colab.research.google.com/assets/colab-badge.svg\" alt=\"Open In Colab\"/></a>"
      ]
    },
    {
      "cell_type": "code",
      "source": [
        "c=input()\n",
        "try:\n",
        "    from googlesearch import search\n",
        "except ImportError:\n",
        "    print(\"No module named 'google' found\")\n",
        "query = c+\"flipkart\"\n",
        "for j in search(query, tld=\"co.in\", num=10, stop=10, pause=2):\n",
        "    uq=j\n",
        "    break\n",
        "print(uq)"
      ],
      "metadata": {
        "colab": {
          "base_uri": "https://localhost:8080/"
        },
        "id": "BW-YvO4rgL5Q",
        "outputId": "f7b96288-c93b-474f-8e17-ea26ea71aec0"
      },
      "execution_count": 18,
      "outputs": [
        {
          "output_type": "stream",
          "name": "stdout",
          "text": [
            "adidas\n",
            "https://www.flipkart.com/q/adidas-shoes\n"
          ]
        }
      ]
    },
    {
      "cell_type": "code",
      "source": [
        "import requests\n",
        "import numpy\n",
        "from bs4 import BeautifulSoup\n",
        "revi=[]\n",
        "u=[]\n",
        "rat=[]\n",
        "pric=[]\n",
        "header={\"User-Agent\":'Mozilla/5.0 (Macintosh; Intel Mac OS X 10_15_7) AppleWebKit/537.36 (KHTML, like Gecko) Chrome/101.0.4951.64 Safari/537.36'}\n",
        "page=requests.get(uq, headers=header)\n",
        "links=[]\n",
        "soup=BeautifulSoup(page.content, 'html.parser')\n",
        "productlist = soup.find_all(\"div\",{\"class\":\"_1xHGtK _373qXS\"})\n",
        "productlinks = []\n",
        "for product in productlist:\n",
        "        link = product.find(\"a\",{\"class\":\"_2UzuFa\"}).get('href')\n",
        "        productlinks.append(link)\n",
        "for x in productlinks:\n",
        "        try:\n",
        "          Url=\"https://www.flipkart.com\"+x\n",
        "          header={\"User-Agent\":'Mozilla/5.0 (Macintosh; Intel Mac OS X 10_15_7) AppleWebKit/537.36 (KHTML, like Gecko) Chrome/101.0.4951.64 Safari/537.36'}\n",
        "          page=requests.get(Url, headers=header)\n",
        "          soup=BeautifulSoup(page.content, 'html.parser')\n",
        "          price=soup.find('div',class_=\"_30jeq3 _16Jk6d\")\n",
        "          rating=soup.find('div',class_=\"_3LWZlK\")\n",
        "          reviews=soup.find('span',class_=\"_2_R_DZ\")\n",
        "          reviews=reviews.text.split(\" \")\n",
        "          revi.append(reviews[0].replace(\",\",\"\"))\n",
        "          rat.append(rating.text[0:1].replace(\",\",\"\"))\n",
        "          pric.append(price.text[1::].replace(\",\",\"\"))\n",
        "          u.append(Url)\n",
        "        except:\n",
        "          pass"
      ],
      "metadata": {
        "id": "1zHU-meRD0dN"
      },
      "execution_count": 19,
      "outputs": []
    },
    {
      "cell_type": "code",
      "source": [
        "import csv\n",
        "\n",
        "# open the file in the write mode\n",
        "with open('/content/brr(b).csv', 'w') as f:\n",
        "    # create the csv writer\n",
        "    writer = csv.writer(f)\n",
        "    writer.writerow([\"liked\",\"reviews\",\"rating\",\"price\"])\n",
        "    for x in range(0,len(rat),1):\n",
        "      writer.writerow([\"x\",revi[x],rat[x],pric[x]])"
      ],
      "metadata": {
        "id": "x3J3IJpJ_y6V"
      },
      "execution_count": 20,
      "outputs": []
    },
    {
      "cell_type": "code",
      "execution_count": 21,
      "metadata": {
        "id": "HEFwr7H6ENKo"
      },
      "outputs": [],
      "source": [
        "import pandas as pd\n",
        "dataset =pd.read_csv(\"brr13.csv\")\n",
        "dat=pd.read_csv(\"brr(b).csv\")"
      ]
    },
    {
      "cell_type": "code",
      "source": [
        "x=dataset.drop(columns=[\"liked\"])\n",
        "i=dat.drop(columns=[\"liked\"])"
      ],
      "metadata": {
        "id": "MpTEeEp6FJZH"
      },
      "execution_count": 22,
      "outputs": []
    },
    {
      "cell_type": "code",
      "source": [
        "y=dataset[\"liked\"]\n",
        "k=dat[\"liked\"]"
      ],
      "metadata": {
        "id": "YsSyIrzBFX9n"
      },
      "execution_count": 23,
      "outputs": []
    },
    {
      "cell_type": "code",
      "source": [
        "from sklearn.model_selection import train_test_split\n",
        "x_train,x_test,y_train,y_test=train_test_split(x,y,test_size=0.2)"
      ],
      "metadata": {
        "id": "SamjkGzIFye-"
      },
      "execution_count": 24,
      "outputs": []
    },
    {
      "cell_type": "code",
      "source": [
        "import tensorflow as tf\n",
        "model =tf.keras.models.Sequential()"
      ],
      "metadata": {
        "id": "6_W1lUqlGHzO"
      },
      "execution_count": 25,
      "outputs": []
    },
    {
      "cell_type": "code",
      "source": [
        "model.add(tf.keras.layers.Dense(256,input_shape=x_train.shape[1:],activation=\"sigmoid\"))\n",
        "model.add(tf.keras.layers.Dense(256,activation='sigmoid'))\n",
        "model.add(tf.keras.layers.Dense(1,activation='sigmoid'))"
      ],
      "metadata": {
        "id": "0-Vmp063GPA1"
      },
      "execution_count": 26,
      "outputs": []
    },
    {
      "cell_type": "code",
      "source": [
        "model.compile(optimizer ='adam',loss='binary_crossentropy',metrics=['accuracy'])"
      ],
      "metadata": {
        "id": "0nNtHX9wG3Fg"
      },
      "execution_count": 27,
      "outputs": []
    },
    {
      "cell_type": "code",
      "source": [
        "model.fit(x_train,y_train,epochs=100)"
      ],
      "metadata": {
        "colab": {
          "base_uri": "https://localhost:8080/"
        },
        "id": "kTSQv24GHUaH",
        "outputId": "176f8fbe-2cb8-4d38-b27b-d9a3e94bb6b4"
      },
      "execution_count": 28,
      "outputs": [
        {
          "output_type": "stream",
          "name": "stdout",
          "text": [
            "Epoch 1/100\n",
            "1/1 [==============================] - 1s 504ms/step - loss: 0.7458 - accuracy: 0.5217\n",
            "Epoch 2/100\n",
            "1/1 [==============================] - 0s 15ms/step - loss: 0.6614 - accuracy: 0.5217\n",
            "Epoch 3/100\n",
            "1/1 [==============================] - 0s 14ms/step - loss: 0.6443 - accuracy: 0.6522\n",
            "Epoch 4/100\n",
            "1/1 [==============================] - 0s 9ms/step - loss: 0.6133 - accuracy: 0.7826\n",
            "Epoch 5/100\n",
            "1/1 [==============================] - 0s 13ms/step - loss: 0.5706 - accuracy: 0.8261\n",
            "Epoch 6/100\n",
            "1/1 [==============================] - 0s 11ms/step - loss: 0.5348 - accuracy: 0.8261\n",
            "Epoch 7/100\n",
            "1/1 [==============================] - 0s 9ms/step - loss: 0.5114 - accuracy: 0.7826\n",
            "Epoch 8/100\n",
            "1/1 [==============================] - 0s 11ms/step - loss: 0.4935 - accuracy: 0.8261\n",
            "Epoch 9/100\n",
            "1/1 [==============================] - 0s 10ms/step - loss: 0.4725 - accuracy: 0.8261\n",
            "Epoch 10/100\n",
            "1/1 [==============================] - 0s 11ms/step - loss: 0.4479 - accuracy: 0.8696\n",
            "Epoch 11/100\n",
            "1/1 [==============================] - 0s 12ms/step - loss: 0.4229 - accuracy: 0.8696\n",
            "Epoch 12/100\n",
            "1/1 [==============================] - 0s 11ms/step - loss: 0.4066 - accuracy: 0.8261\n",
            "Epoch 13/100\n",
            "1/1 [==============================] - 0s 13ms/step - loss: 0.3955 - accuracy: 0.8261\n",
            "Epoch 14/100\n",
            "1/1 [==============================] - 0s 10ms/step - loss: 0.3837 - accuracy: 0.8261\n",
            "Epoch 15/100\n",
            "1/1 [==============================] - 0s 21ms/step - loss: 0.3715 - accuracy: 0.8261\n",
            "Epoch 16/100\n",
            "1/1 [==============================] - 0s 12ms/step - loss: 0.3584 - accuracy: 0.8261\n",
            "Epoch 17/100\n",
            "1/1 [==============================] - 0s 13ms/step - loss: 0.3443 - accuracy: 0.8261\n",
            "Epoch 18/100\n",
            "1/1 [==============================] - 0s 13ms/step - loss: 0.3380 - accuracy: 0.8261\n",
            "Epoch 19/100\n",
            "1/1 [==============================] - 0s 12ms/step - loss: 0.3308 - accuracy: 0.8696\n",
            "Epoch 20/100\n",
            "1/1 [==============================] - 0s 23ms/step - loss: 0.3241 - accuracy: 0.9130\n",
            "Epoch 21/100\n",
            "1/1 [==============================] - 0s 15ms/step - loss: 0.3148 - accuracy: 0.9130\n",
            "Epoch 22/100\n",
            "1/1 [==============================] - 0s 11ms/step - loss: 0.3039 - accuracy: 0.9130\n",
            "Epoch 23/100\n",
            "1/1 [==============================] - 0s 15ms/step - loss: 0.2979 - accuracy: 0.9130\n",
            "Epoch 24/100\n",
            "1/1 [==============================] - 0s 8ms/step - loss: 0.2923 - accuracy: 0.9130\n",
            "Epoch 25/100\n",
            "1/1 [==============================] - 0s 8ms/step - loss: 0.2856 - accuracy: 0.9130\n",
            "Epoch 26/100\n",
            "1/1 [==============================] - 0s 9ms/step - loss: 0.2785 - accuracy: 0.9130\n",
            "Epoch 27/100\n",
            "1/1 [==============================] - 0s 8ms/step - loss: 0.2706 - accuracy: 0.9130\n",
            "Epoch 28/100\n",
            "1/1 [==============================] - 0s 9ms/step - loss: 0.2618 - accuracy: 0.9130\n",
            "Epoch 29/100\n",
            "1/1 [==============================] - 0s 14ms/step - loss: 0.2530 - accuracy: 0.9130\n",
            "Epoch 30/100\n",
            "1/1 [==============================] - 0s 9ms/step - loss: 0.2425 - accuracy: 0.9130\n",
            "Epoch 31/100\n",
            "1/1 [==============================] - 0s 9ms/step - loss: 0.2385 - accuracy: 0.9130\n",
            "Epoch 32/100\n",
            "1/1 [==============================] - 0s 9ms/step - loss: 0.2332 - accuracy: 0.9130\n",
            "Epoch 33/100\n",
            "1/1 [==============================] - 0s 10ms/step - loss: 0.2277 - accuracy: 0.9565\n",
            "Epoch 34/100\n",
            "1/1 [==============================] - 0s 10ms/step - loss: 0.2183 - accuracy: 0.9565\n",
            "Epoch 35/100\n",
            "1/1 [==============================] - 0s 12ms/step - loss: 0.2098 - accuracy: 0.9565\n",
            "Epoch 36/100\n",
            "1/1 [==============================] - 0s 17ms/step - loss: 0.2003 - accuracy: 0.9565\n",
            "Epoch 37/100\n",
            "1/1 [==============================] - 0s 14ms/step - loss: 0.1933 - accuracy: 0.9565\n",
            "Epoch 38/100\n",
            "1/1 [==============================] - 0s 15ms/step - loss: 0.1882 - accuracy: 0.9565\n",
            "Epoch 39/100\n",
            "1/1 [==============================] - 0s 18ms/step - loss: 0.1818 - accuracy: 0.9565\n",
            "Epoch 40/100\n",
            "1/1 [==============================] - 0s 21ms/step - loss: 0.1733 - accuracy: 0.9565\n",
            "Epoch 41/100\n",
            "1/1 [==============================] - 0s 11ms/step - loss: 0.1680 - accuracy: 0.9565\n",
            "Epoch 42/100\n",
            "1/1 [==============================] - 0s 11ms/step - loss: 0.1627 - accuracy: 0.9565\n",
            "Epoch 43/100\n",
            "1/1 [==============================] - 0s 11ms/step - loss: 0.1585 - accuracy: 0.9565\n",
            "Epoch 44/100\n",
            "1/1 [==============================] - 0s 11ms/step - loss: 0.1514 - accuracy: 0.9565\n",
            "Epoch 45/100\n",
            "1/1 [==============================] - 0s 11ms/step - loss: 0.1462 - accuracy: 0.9565\n",
            "Epoch 46/100\n",
            "1/1 [==============================] - 0s 12ms/step - loss: 0.1420 - accuracy: 0.9565\n",
            "Epoch 47/100\n",
            "1/1 [==============================] - 0s 12ms/step - loss: 0.1365 - accuracy: 0.9565\n",
            "Epoch 48/100\n",
            "1/1 [==============================] - 0s 11ms/step - loss: 0.1310 - accuracy: 0.9565\n",
            "Epoch 49/100\n",
            "1/1 [==============================] - 0s 10ms/step - loss: 0.1268 - accuracy: 1.0000\n",
            "Epoch 50/100\n",
            "1/1 [==============================] - 0s 16ms/step - loss: 0.1222 - accuracy: 1.0000\n",
            "Epoch 51/100\n",
            "1/1 [==============================] - 0s 10ms/step - loss: 0.1157 - accuracy: 0.9565\n",
            "Epoch 52/100\n",
            "1/1 [==============================] - 0s 11ms/step - loss: 0.1120 - accuracy: 0.9565\n",
            "Epoch 53/100\n",
            "1/1 [==============================] - 0s 11ms/step - loss: 0.1089 - accuracy: 0.9565\n",
            "Epoch 54/100\n",
            "1/1 [==============================] - 0s 10ms/step - loss: 0.1036 - accuracy: 1.0000\n",
            "Epoch 55/100\n",
            "1/1 [==============================] - 0s 11ms/step - loss: 0.0999 - accuracy: 1.0000\n",
            "Epoch 56/100\n",
            "1/1 [==============================] - 0s 12ms/step - loss: 0.0975 - accuracy: 1.0000\n",
            "Epoch 57/100\n",
            "1/1 [==============================] - 0s 12ms/step - loss: 0.0945 - accuracy: 1.0000\n",
            "Epoch 58/100\n",
            "1/1 [==============================] - 0s 12ms/step - loss: 0.0919 - accuracy: 1.0000\n",
            "Epoch 59/100\n",
            "1/1 [==============================] - 0s 12ms/step - loss: 0.0883 - accuracy: 1.0000\n",
            "Epoch 60/100\n",
            "1/1 [==============================] - 0s 12ms/step - loss: 0.0850 - accuracy: 1.0000\n",
            "Epoch 61/100\n",
            "1/1 [==============================] - 0s 12ms/step - loss: 0.0829 - accuracy: 1.0000\n",
            "Epoch 62/100\n",
            "1/1 [==============================] - 0s 12ms/step - loss: 0.0809 - accuracy: 1.0000\n",
            "Epoch 63/100\n",
            "1/1 [==============================] - 0s 12ms/step - loss: 0.0774 - accuracy: 1.0000\n",
            "Epoch 64/100\n",
            "1/1 [==============================] - 0s 12ms/step - loss: 0.0759 - accuracy: 1.0000\n",
            "Epoch 65/100\n",
            "1/1 [==============================] - 0s 12ms/step - loss: 0.0737 - accuracy: 1.0000\n",
            "Epoch 66/100\n",
            "1/1 [==============================] - 0s 11ms/step - loss: 0.0730 - accuracy: 1.0000\n",
            "Epoch 67/100\n",
            "1/1 [==============================] - 0s 12ms/step - loss: 0.0694 - accuracy: 1.0000\n",
            "Epoch 68/100\n",
            "1/1 [==============================] - 0s 12ms/step - loss: 0.0668 - accuracy: 1.0000\n",
            "Epoch 69/100\n",
            "1/1 [==============================] - 0s 11ms/step - loss: 0.0645 - accuracy: 1.0000\n",
            "Epoch 70/100\n",
            "1/1 [==============================] - 0s 12ms/step - loss: 0.0634 - accuracy: 1.0000\n",
            "Epoch 71/100\n",
            "1/1 [==============================] - 0s 12ms/step - loss: 0.0628 - accuracy: 1.0000\n",
            "Epoch 72/100\n",
            "1/1 [==============================] - 0s 11ms/step - loss: 0.0587 - accuracy: 1.0000\n",
            "Epoch 73/100\n",
            "1/1 [==============================] - 0s 12ms/step - loss: 0.0576 - accuracy: 1.0000\n",
            "Epoch 74/100\n",
            "1/1 [==============================] - 0s 12ms/step - loss: 0.0548 - accuracy: 1.0000\n",
            "Epoch 75/100\n",
            "1/1 [==============================] - 0s 12ms/step - loss: 0.0538 - accuracy: 1.0000\n",
            "Epoch 76/100\n",
            "1/1 [==============================] - 0s 12ms/step - loss: 0.0525 - accuracy: 1.0000\n",
            "Epoch 77/100\n",
            "1/1 [==============================] - 0s 11ms/step - loss: 0.0528 - accuracy: 1.0000\n",
            "Epoch 78/100\n",
            "1/1 [==============================] - 0s 12ms/step - loss: 0.0496 - accuracy: 1.0000\n",
            "Epoch 79/100\n",
            "1/1 [==============================] - 0s 12ms/step - loss: 0.0481 - accuracy: 1.0000\n",
            "Epoch 80/100\n",
            "1/1 [==============================] - 0s 11ms/step - loss: 0.0462 - accuracy: 1.0000\n",
            "Epoch 81/100\n",
            "1/1 [==============================] - 0s 14ms/step - loss: 0.0446 - accuracy: 1.0000\n",
            "Epoch 82/100\n",
            "1/1 [==============================] - 0s 12ms/step - loss: 0.0432 - accuracy: 1.0000\n",
            "Epoch 83/100\n",
            "1/1 [==============================] - 0s 12ms/step - loss: 0.0431 - accuracy: 1.0000\n",
            "Epoch 84/100\n",
            "1/1 [==============================] - 0s 12ms/step - loss: 0.0411 - accuracy: 1.0000\n",
            "Epoch 85/100\n",
            "1/1 [==============================] - 0s 11ms/step - loss: 0.0399 - accuracy: 1.0000\n",
            "Epoch 86/100\n",
            "1/1 [==============================] - 0s 11ms/step - loss: 0.0384 - accuracy: 1.0000\n",
            "Epoch 87/100\n",
            "1/1 [==============================] - 0s 12ms/step - loss: 0.0373 - accuracy: 1.0000\n",
            "Epoch 88/100\n",
            "1/1 [==============================] - 0s 12ms/step - loss: 0.0362 - accuracy: 1.0000\n",
            "Epoch 89/100\n",
            "1/1 [==============================] - 0s 12ms/step - loss: 0.0353 - accuracy: 1.0000\n",
            "Epoch 90/100\n",
            "1/1 [==============================] - 0s 11ms/step - loss: 0.0345 - accuracy: 1.0000\n",
            "Epoch 91/100\n",
            "1/1 [==============================] - 0s 16ms/step - loss: 0.0344 - accuracy: 1.0000\n",
            "Epoch 92/100\n",
            "1/1 [==============================] - 0s 27ms/step - loss: 0.0336 - accuracy: 1.0000\n",
            "Epoch 93/100\n",
            "1/1 [==============================] - 0s 12ms/step - loss: 0.0325 - accuracy: 1.0000\n",
            "Epoch 94/100\n",
            "1/1 [==============================] - 0s 27ms/step - loss: 0.0322 - accuracy: 1.0000\n",
            "Epoch 95/100\n",
            "1/1 [==============================] - 0s 23ms/step - loss: 0.0315 - accuracy: 1.0000\n",
            "Epoch 96/100\n",
            "1/1 [==============================] - 0s 30ms/step - loss: 0.0308 - accuracy: 1.0000\n",
            "Epoch 97/100\n",
            "1/1 [==============================] - 0s 17ms/step - loss: 0.0305 - accuracy: 1.0000\n",
            "Epoch 98/100\n",
            "1/1 [==============================] - 0s 21ms/step - loss: 0.0296 - accuracy: 1.0000\n",
            "Epoch 99/100\n",
            "1/1 [==============================] - 0s 17ms/step - loss: 0.0291 - accuracy: 1.0000\n",
            "Epoch 100/100\n",
            "1/1 [==============================] - 0s 22ms/step - loss: 0.0283 - accuracy: 1.0000\n"
          ]
        },
        {
          "output_type": "execute_result",
          "data": {
            "text/plain": [
              "<keras.callbacks.History at 0x7fb8413dec90>"
            ]
          },
          "metadata": {},
          "execution_count": 28
        }
      ]
    },
    {
      "cell_type": "code",
      "source": [
        "model.evaluate(x_test,y_test)"
      ],
      "metadata": {
        "colab": {
          "base_uri": "https://localhost:8080/"
        },
        "id": "XHYFKezPHdMS",
        "outputId": "452bf787-ecbd-483b-f2f3-8e2160111c43"
      },
      "execution_count": 29,
      "outputs": [
        {
          "output_type": "stream",
          "name": "stdout",
          "text": [
            "1/1 [==============================] - 0s 116ms/step - loss: 1.0072 - accuracy: 0.8333\n"
          ]
        },
        {
          "output_type": "execute_result",
          "data": {
            "text/plain": [
              "[1.0072474479675293, 0.8333333134651184]"
            ]
          },
          "metadata": {},
          "execution_count": 29
        }
      ]
    },
    {
      "cell_type": "code",
      "source": [
        "a=model.predict(i)\n",
        "print(len(u))"
      ],
      "metadata": {
        "id": "F2geQDQ_JJmE",
        "colab": {
          "base_uri": "https://localhost:8080/"
        },
        "outputId": "dcee78c8-36f3-4d90-a9bc-4581459d3e4c"
      },
      "execution_count": 30,
      "outputs": [
        {
          "output_type": "stream",
          "name": "stdout",
          "text": [
            "39\n"
          ]
        }
      ]
    },
    {
      "cell_type": "code",
      "source": [
        "fl=0\n",
        "p=0\n",
        "print(\"Links of products suitable for you:\")\n",
        "for x in range(len(a)):\n",
        "  if a[x]>0.7:\n",
        "    print(u[x])\n",
        "print(\"No of products =\",len(u))"
      ],
      "metadata": {
        "colab": {
          "base_uri": "https://localhost:8080/"
        },
        "id": "IokGpTcUf0HQ",
        "outputId": "44996516-fcbc-4a1d-e186-f2040c8b2769"
      },
      "execution_count": 33,
      "outputs": [
        {
          "output_type": "stream",
          "name": "stdout",
          "text": [
            "List of products suitable for you:\n",
            "https://www.flipkart.com/adidas-adi-active-m-running-shoes-men/p/itm0a316a24040ae?pid=SHOFZBQFPJMD8HZ2&lid=LSTSHOFZBQFPJMD8HZ2DAX62R&marketplace=FLIPKART&store=osp&srno=b_1_1&otracker=browse&fm=organic&iid=en_2zAsj4UvaRLMmbyues7FZUebdxSU7piPgJN7sW0sOyYsk14Yxd7RjxBFgl07hXk4z79K2CJBrqOh%2Fp2qzZXglw%3D%3D&ppt=None&ppn=None&ssid=4sl37wmgjk0000001653796129892\n",
            "https://www.flipkart.com/adidas-easy-vulc-2-0-sneakers-men/p/itm49b0042c19b11?pid=SHOFU43QN5XAHHVZ&lid=LSTSHOFU43QN5XAHHVZA4RLW6&marketplace=FLIPKART&store=osp&srno=b_1_2&otracker=browse&fm=organic&iid=en_2zAsj4UvaRLMmbyues7FZUebdxSU7piPgJN7sW0sOyYkSMKrZH%2F%2FW0Bv8Uj2CH7qo%2BgFlxH2DJK97yxVJGncDw%3D%3D&ppt=None&ppn=None&ssid=4sl37wmgjk0000001653796129892\n",
            "https://www.flipkart.com/adidas-adistound-m-running-shoes-men/p/itm2509c84f81634?pid=SHOG9XNXTUJTEHTH&lid=LSTSHOG9XNXTUJTEHTHU1UZGY&marketplace=FLIPKART&store=osp&srno=b_1_3&otracker=browse&fm=organic&iid=b7e260e0-9911-4448-8096-21437fada516.SHOG9XNXTUJTEHTH.SEARCH&ppt=None&ppn=None&ssid=4sl37wmgjk0000001653796129892\n",
            "https://www.flipkart.com/adidas-runesy-m-running-shoes-men/p/itm7fad9977f5ffe?pid=SHOG4YNDAF2GWYGP&lid=LSTSHOG4YNDAF2GWYGP5EZ9NT&marketplace=FLIPKART&store=osp&srno=b_1_4&otracker=browse&fm=organic&iid=b7e260e0-9911-4448-8096-21437fada516.SHOG4YNDAF2GWYGP.SEARCH&ppt=None&ppn=None&ssid=4sl37wmgjk0000001653796129892\n",
            "https://www.flipkart.com/adidas-adiscend-m-running-shoes-men/p/itm1c696fdd7b885?pid=SHOG9XNZG22ZHTGP&lid=LSTSHOG9XNZG22ZHTGPA0ZW0U&marketplace=FLIPKART&store=osp&srno=b_1_6&otracker=browse&fm=organic&iid=b7e260e0-9911-4448-8096-21437fada516.SHOG9XNZG22ZHTGP.SEARCH&ppt=None&ppn=None&ssid=4sl37wmgjk0000001653796129892\n",
            "https://www.flipkart.com/adidas-showtheway-running-shoes-men/p/itme0a8edcb2fbe2?pid=SHOFUN8KXNEKJTYZ&lid=LSTSHOFUN8KXNEKJTYZZZBMJ6&marketplace=FLIPKART&store=osp&srno=b_1_8&otracker=browse&fm=organic&iid=en_2zAsj4UvaRLMmbyues7FZUebdxSU7piPgJN7sW0sOyY3bbxCRs6BC0xyOUjijm6L6h1Can1Lm8g1jEviot0TlA%3D%3D&ppt=None&ppn=None&ssid=4sl37wmgjk0000001653796129892\n",
            "https://www.flipkart.com/adidas-merage-m-running-shoes-men/p/itm9c64b89a16551?pid=SHOG9XNZTD6QRQ5Q&lid=LSTSHOG9XNZTD6QRQ5QDUMFYF&marketplace=FLIPKART&store=osp&srno=b_1_9&otracker=browse&fm=organic&iid=b7e260e0-9911-4448-8096-21437fada516.SHOG9XNZTD6QRQ5Q.SEARCH&ppt=None&ppn=None&ssid=4sl37wmgjk0000001653796129892\n",
            "https://www.flipkart.com/adidas-turbo-glide-m-running-shoes-men/p/itm338beee7d13c9?pid=SHOG9XNY7JCMEUPS&lid=LSTSHOG9XNY7JCMEUPSHWEDD2&marketplace=FLIPKART&store=osp&srno=b_1_10&otracker=browse&fm=organic&iid=b7e260e0-9911-4448-8096-21437fada516.SHOG9XNY7JCMEUPS.SEARCH&ppt=None&ppn=None&ssid=4sl37wmgjk0000001653796129892\n",
            "https://www.flipkart.com/adidas-mech-dune-m-running-shoes-men/p/itm2ed37f49efc95?pid=SHOG9XNXFMEVDJDY&lid=LSTSHOG9XNXFMEVDJDY6GCWPV&marketplace=FLIPKART&store=osp&srno=b_1_11&otracker=browse&fm=organic&iid=b7e260e0-9911-4448-8096-21437fada516.SHOG9XNXFMEVDJDY.SEARCH&ppt=None&ppn=None&ssid=4sl37wmgjk0000001653796129892\n",
            "https://www.flipkart.com/adidas-easy-vulc-2-0-sneakers-men/p/itmfhwp9f5bkbh4g?pid=SHOFU43P7VBDBVHN&lid=LSTSHOFU43P7VBDBVHNHDNPDR&marketplace=FLIPKART&store=osp&srno=b_1_12&otracker=browse&fm=organic&iid=en_2zAsj4UvaRLMmbyues7FZUebdxSU7piPgJN7sW0sOybJKcrHImSjOTBBYSCbViTpGQ%2BsDc1s608E1YY104t3mA%3D%3D&ppt=None&ppn=None&ssid=4sl37wmgjk0000001653796129892\n",
            "https://www.flipkart.com/adidas-runesy-m-running-shoes-men/p/itm4ba01e1c380ea?pid=SHOG4YNDGPMPQ6HV&lid=LSTSHOG4YNDGPMPQ6HV7DLZHF&marketplace=FLIPKART&store=osp&srno=b_1_13&otracker=browse&fm=organic&iid=b7e260e0-9911-4448-8096-21437fada516.SHOG4YNDGPMPQ6HV.SEARCH&ppt=None&ppn=None&ssid=4sl37wmgjk0000001653796129892\n",
            "https://www.flipkart.com/adidas-tristo-m-walking-shoes-men/p/itm61ff5c0a956ae?pid=SHOG9XNYA9SGXRZY&lid=LSTSHOG9XNYA9SGXRZYOLWBNZ&marketplace=FLIPKART&store=osp&srno=b_1_14&otracker=browse&fm=organic&iid=b7e260e0-9911-4448-8096-21437fada516.SHOG9XNYA9SGXRZY.SEARCH&ppt=None&ppn=None&ssid=4sl37wmgjk0000001653796129892\n",
            "https://www.flipkart.com/adidas-vigilaar-m-running-shoes-men/p/itmc8132094538d9?pid=SHOG9XNYUXZXKPYE&lid=LSTSHOG9XNYUXZXKPYEVSEHHH&marketplace=FLIPKART&store=osp&srno=b_1_15&otracker=browse&fm=organic&iid=b7e260e0-9911-4448-8096-21437fada516.SHOG9XNYUXZXKPYE.SEARCH&ppt=None&ppn=None&ssid=4sl37wmgjk0000001653796129892\n",
            "https://www.flipkart.com/adidas-asweemove-running-shoes-men/p/itm02d090d9b3736?pid=SHOFZBQHNGXABQNU&lid=LSTSHOFZBQHNGXABQNUUP0CGV&marketplace=FLIPKART&store=osp&srno=b_1_16&otracker=browse&fm=organic&iid=en_2zAsj4UvaRLMmbyues7FZUebdxSU7piPgJN7sW0sOyYGizFTCxbT3mBbtyWTUN%2FquwkPhZaBS%2BQCDm9LCj4buw%3D%3D&ppt=None&ppn=None&ssid=4sl37wmgjk0000001653796129892\n",
            "https://www.flipkart.com/adidas-stunicon-m-running-shoes-men/p/itmf4ce5a3a3820e?pid=SHOG4YNB4C3HEUG4&lid=LSTSHOG4YNB4C3HEUG4M4NWJX&marketplace=FLIPKART&store=osp&srno=b_1_17&otracker=browse&fm=organic&iid=b7e260e0-9911-4448-8096-21437fada516.SHOG4YNB4C3HEUG4.SEARCH&ppt=None&ppn=None&ssid=4sl37wmgjk0000001653796129892\n",
            "https://www.flipkart.com/adidas-adistound-w-running-shoes-women/p/itm236fbe6f9a0cb?pid=SHOG9XNX2HFJWGZA&lid=LSTSHOG9XNX2HFJWGZAV0BUIL&marketplace=FLIPKART&store=osp&srno=b_1_18&otracker=browse&fm=organic&iid=b7e260e0-9911-4448-8096-21437fada516.SHOG9XNX2HFJWGZA.SEARCH&ppt=None&ppn=None&ssid=4sl37wmgjk0000001653796129892\n",
            "https://www.flipkart.com/adidas-flydoot-m-running-shoes-men/p/itm4896a2a250f77?pid=SHOG4YNA496FAQBA&lid=LSTSHOG4YNA496FAQBANXEXVD&marketplace=FLIPKART&store=osp&srno=b_1_19&otracker=browse&fm=organic&iid=b7e260e0-9911-4448-8096-21437fada516.SHOG4YNA496FAQBA.SEARCH&ppt=None&ppn=None&ssid=4sl37wmgjk0000001653796129892\n",
            "https://www.flipkart.com/adidas-stunicon-m-running-shoes-men/p/itmc5c53a83c05b3?pid=SHOG4YNBVCYNC9ME&lid=LSTSHOG4YNBVCYNC9ME7T0VI9&marketplace=FLIPKART&store=osp&srno=b_1_21&otracker=browse&fm=organic&iid=b7e260e0-9911-4448-8096-21437fada516.SHOG4YNBVCYNC9ME.SEARCH&ppt=None&ppn=None&ssid=4sl37wmgjk0000001653796129892\n",
            "https://www.flipkart.com/adidas-stunicon-m-running-shoes-men/p/itm6128a218fb01e?pid=SHOG4YNBSUDDVGWB&lid=LSTSHOG4YNBSUDDVGWBJMDVR9&marketplace=FLIPKART&store=osp&srno=b_1_22&otracker=browse&fm=organic&iid=b7e260e0-9911-4448-8096-21437fada516.SHOG4YNBSUDDVGWB.SEARCH&ppt=None&ppn=None&ssid=4sl37wmgjk0000001653796129892\n",
            "https://www.flipkart.com/adidas-adi-dash-m-running-shoes-men/p/itmb1d72d7507b20?pid=SHOG4YNBQZYJMV27&lid=LSTSHOG4YNBQZYJMV27ZS4AOP&marketplace=FLIPKART&store=osp&srno=b_1_24&otracker=browse&fm=organic&iid=en_2zAsj4UvaRLMmbyues7FZUebdxSU7piPgJN7sW0sOybM4ogShr%2FipBFgzB9CywZ97PwQiOmVqj4FbLTRvk30rA%3D%3D&ppt=None&ppn=None&ssid=4sl37wmgjk0000001653796129892\n",
            "https://www.flipkart.com/adidas-mech-dune-m-running-shoes-men/p/itmf9bcfe0a9d891?pid=SHOG9XNXKBZ9UGYC&lid=LSTSHOG9XNXKBZ9UGYCFTUDHS&marketplace=FLIPKART&store=osp&srno=b_1_25&otracker=browse&fm=organic&iid=b7e260e0-9911-4448-8096-21437fada516.SHOG9XNXKBZ9UGYC.SEARCH&ppt=None&ppn=None&ssid=4sl37wmgjk0000001653796129892\n",
            "https://www.flipkart.com/adidas-axelate-m-walking-shoes-men/p/itmc6d9624b5fa1c?pid=SHOG9XNXMRUFTKR5&lid=LSTSHOG9XNXMRUFTKR5JJVHP1&marketplace=FLIPKART&store=osp&srno=b_1_26&otracker=browse&fm=organic&iid=b7e260e0-9911-4448-8096-21437fada516.SHOG9XNXMRUFTKR5.SEARCH&ppt=None&ppn=None&ssid=4sl37wmgjk0000001653796129892\n",
            "https://www.flipkart.com/adidas-clear-factor-m-running-shoes-men/p/itm36dc93019eecb?pid=SHOFZBQDHXBVN46Z&lid=LSTSHOFZBQDHXBVN46ZAIPIDI&marketplace=FLIPKART&store=osp&srno=b_1_27&otracker=browse&fm=organic&iid=b7e260e0-9911-4448-8096-21437fada516.SHOFZBQDHXBVN46Z.SEARCH&ppt=None&ppn=None&ssid=4sl37wmgjk0000001653796129892\n",
            "https://www.flipkart.com/adidas-pictoris-m-running-shoes-men/p/itm4676e5470ed3d?pid=SHOFU43PFPJANCY9&lid=LSTSHOFU43PFPJANCY9SEKZ6R&marketplace=FLIPKART&store=osp&srno=b_1_30&otracker=browse&fm=organic&iid=b7e260e0-9911-4448-8096-21437fada516.SHOFU43PFPJANCY9.SEARCH&ppt=None&ppn=None&ssid=4sl37wmgjk0000001653796129892\n",
            "https://www.flipkart.com/adidas-runmagica-m-running-shoes-men/p/itm2c4614b845406?pid=SHOG4YNAHFAUAE6C&lid=LSTSHOG4YNAHFAUAE6CITJSQ4&marketplace=FLIPKART&store=osp&spotlightTagId=TrendingId_osp&srno=b_1_31&otracker=browse&fm=organic&iid=b7e260e0-9911-4448-8096-21437fada516.SHOG4YNAHFAUAE6C.SEARCH&ppt=None&ppn=None&ssid=4sl37wmgjk0000001653796129892\n",
            "https://www.flipkart.com/adidas-adi-active-m-running-shoes-men/p/itm1e1999788c061?pid=SHOFZBQEBRH6GHHN&lid=LSTSHOFZBQEBRH6GHHN8CKVIM&marketplace=FLIPKART&store=osp&srno=b_1_32&otracker=browse&fm=organic&iid=en_2zAsj4UvaRLMmbyues7FZUebdxSU7piPgJN7sW0sOyZvWG5bAF7mqjKH9suaTTde8%2F1mjLkVntr246Wlomvgdg%3D%3D&ppt=None&ppn=None&ssid=4sl37wmgjk0000001653796129892\n",
            "https://www.flipkart.com/adidas-predator-edge-4-fxg-football-shoes-men/p/itme1cfc591f8588?pid=SHOG9XNWNHKSSEWY&lid=LSTSHOG9XNWNHKSSEWY0U37L8&marketplace=FLIPKART&store=osp&srno=b_1_33&otracker=browse&fm=organic&iid=b7e260e0-9911-4448-8096-21437fada516.SHOG9XNWNHKSSEWY.SEARCH&ppt=None&ppn=None&ssid=4sl37wmgjk0000001653796129892\n",
            "https://www.flipkart.com/adidas-zelt-sl-2-0-m-running-shoes-men/p/itm51f1b3f974c59?pid=SHOFNR6WKAJA7TGP&lid=LSTSHOFNR6WKAJA7TGPRNRWYN&marketplace=FLIPKART&store=osp&srno=b_1_34&otracker=browse&fm=organic&iid=b7e260e0-9911-4448-8096-21437fada516.SHOFNR6WKAJA7TGP.SEARCH&ppt=None&ppn=None&ssid=4sl37wmgjk0000001653796129892\n",
            "https://www.flipkart.com/adidas-classigy-w-running-shoes-women/p/itm042fe67e227bf?pid=SHOG9XNXYSTCZ8U3&lid=LSTSHOG9XNXYSTCZ8U3B1NPN0&marketplace=FLIPKART&store=osp&srno=b_1_35&otracker=browse&fm=organic&iid=b7e260e0-9911-4448-8096-21437fada516.SHOG9XNXYSTCZ8U3.SEARCH&ppt=None&ppn=None&ssid=4sl37wmgjk0000001653796129892\n",
            "https://www.flipkart.com/adidas-uniflow-m-running-shoes-men/p/itmcb5518c8a3da1?pid=SHOG4YNB2UXFZKWT&lid=LSTSHOG4YNB2UXFZKWTWW0VX8&marketplace=FLIPKART&store=osp&srno=b_1_37&otracker=browse&fm=organic&iid=b7e260e0-9911-4448-8096-21437fada516.SHOG4YNB2UXFZKWT.SEARCH&ppt=None&ppn=None&ssid=4sl37wmgjk0000001653796129892\n",
            "https://www.flipkart.com/adidas-quickflow-m-running-shoes-men/p/itm61eef6cecbc8b?pid=SHOG4YNA9RKPJZHU&lid=LSTSHOG4YNA9RKPJZHU4V4FKV&marketplace=FLIPKART&store=osp&srno=b_1_39&otracker=browse&fm=organic&iid=b7e260e0-9911-4448-8096-21437fada516.SHOG4YNA9RKPJZHU.SEARCH&ppt=None&ppn=None&ssid=4sl37wmgjk0000001653796129892\n",
            "https://www.flipkart.com/adidas-kaptir-super-running-shoes-men/p/itm5353cc0c9b99d?pid=SHOG3MWGCJTUHTVV&lid=LSTSHOG3MWGCJTUHTVVET03BQ&marketplace=FLIPKART&store=osp&srno=b_1_40&otracker=browse&fm=organic&iid=en_2zAsj4UvaRLMmbyues7FZUebdxSU7piPgJN7sW0sOyYRHNd8QAVgkcRB2ci%2F2WXKsP1TFmCdK2s51rFZ7MQ91A%3D%3D&ppt=None&ppn=None&ssid=4sl37wmgjk0000001653796129892\n",
            "No of products = 39\n"
          ]
        }
      ]
    },
    {
      "cell_type": "code",
      "source": [
        ""
      ],
      "metadata": {
        "id": "QMxDTU9MsuiG"
      },
      "execution_count": null,
      "outputs": []
    },
    {
      "cell_type": "code",
      "source": [
        ""
      ],
      "metadata": {
        "id": "eM34KsPCuZJq"
      },
      "execution_count": null,
      "outputs": []
    }
  ]
}